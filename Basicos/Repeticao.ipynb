{
 "cells": [
  {
   "cell_type": "markdown",
   "id": "830703de-4c4d-426e-b443-8f1fbe675e6d",
   "metadata": {},
   "source": [
    "<h1>Loops </h1>\n",
    "\n",
    "Utiliza para repetição de ações"
   ]
  },
  {
   "cell_type": "code",
   "execution_count": 3,
   "id": "368c58b5-e5e0-4787-8c7e-f4bc6a77e922",
   "metadata": {},
   "outputs": [
    {
     "name": "stdout",
     "output_type": "stream",
     "text": [
      "0\n",
      "1\n",
      "2\n",
      "3\n",
      "3\n"
     ]
    }
   ],
   "source": [
    "#FOR\n",
    "numero = 4\n",
    "for i in range(0,numero):\n",
    "    print(i)\n",
    "#No final do laço o valor e iterado e comparado\n",
    "#Se for = já para, logo faz N-1"
   ]
  },
  {
   "cell_type": "code",
   "execution_count": 4,
   "id": "57e29904-2223-4740-91a5-9b9621a167ca",
   "metadata": {},
   "outputs": [
    {
     "name": "stdout",
     "output_type": "stream",
     "text": [
      "Itens\n",
      "Quaisquer\n"
     ]
    }
   ],
   "source": [
    "lista = ['Itens','Quaisquer']\n",
    "for i in lista:\n",
    "    print (i)"
   ]
  },
  {
   "cell_type": "code",
   "execution_count": 5,
   "id": "f5a8db59-c31d-4d27-bcba-796fbd9c94b6",
   "metadata": {},
   "outputs": [
    {
     "name": "stdout",
     "output_type": "stream",
     "text": [
      "Itens\n",
      "Quaisquer\n"
     ]
    }
   ],
   "source": [
    "tupla = ('Itens','Quaisquer')\n",
    "for i in tupla:\n",
    "    print(i)"
   ]
  },
  {
   "cell_type": "code",
   "execution_count": 6,
   "id": "fed1195e-268a-4be0-b996-b87b1922bf9d",
   "metadata": {},
   "outputs": [
    {
     "name": "stdout",
     "output_type": "stream",
     "text": [
      "T\n",
      "e\n",
      "x\n",
      "t\n",
      "o\n",
      " \n",
      "q\n",
      "u\n",
      "a\n",
      "l\n",
      "q\n",
      "u\n",
      "e\n",
      "r\n"
     ]
    }
   ],
   "source": [
    "texto = 'Texto qualquer'\n",
    "for i in texto:\n",
    "    print(i)"
   ]
  },
  {
   "cell_type": "code",
   "execution_count": 7,
   "id": "91033ed3-e54f-4ddb-9d7f-d101cf0564d0",
   "metadata": {},
   "outputs": [
    {
     "name": "stdout",
     "output_type": "stream",
     "text": [
      "itens 1\n",
      "quaisquer 2\n"
     ]
    }
   ],
   "source": [
    "dicionario = {'itens':1,'quaisquer':2}\n",
    "for i in dicionario:\n",
    "    print('%s %d' % (i,dicionario[i]))"
   ]
  },
  {
   "cell_type": "code",
   "execution_count": 8,
   "id": "96adb4cd-49f5-4356-9af8-478ffcec185b",
   "metadata": {},
   "outputs": [
    {
     "name": "stdout",
     "output_type": "stream",
     "text": [
      "Itens\n",
      "Quaisquer\n"
     ]
    }
   ],
   "source": [
    "#len retorna o total de elementos-1\n",
    "lista = ['Itens','Quaisquer']\n",
    "#len = 1 e index começa de 0\n",
    "for index in range(len(lista)):\n",
    "    print (lista[index])"
   ]
  },
  {
   "cell_type": "code",
   "execution_count": 9,
   "id": "3df3b438-fee9-43fe-aaa9-8614cdadf303",
   "metadata": {},
   "outputs": [
    {
     "name": "stdout",
     "output_type": "stream",
     "text": [
      "Itens\n",
      "Quaisquer\n",
      "Fora do Loop\n"
     ]
    }
   ],
   "source": [
    "lista = ['Itens','Quaisquer']\n",
    "for index in range(len(lista)):\n",
    "    print (lista[index])\n",
    "else:\n",
    "    print('Fora do Loop')"
   ]
  },
  {
   "cell_type": "code",
   "execution_count": 10,
   "id": "db9f6184-83b1-494f-8885-d2b88a883e7d",
   "metadata": {},
   "outputs": [
    {
     "name": "stdout",
     "output_type": "stream",
     "text": [
      "Hello\n",
      "Hello\n",
      "Hello\n"
     ]
    }
   ],
   "source": [
    "count = 0\n",
    "while(count<3):\n",
    "    count+=1\n",
    "    print('Hello')"
   ]
  },
  {
   "cell_type": "code",
   "execution_count": 11,
   "id": "ec108991-42a7-4131-8a77-90f096874a1a",
   "metadata": {},
   "outputs": [
    {
     "name": "stdout",
     "output_type": "stream",
     "text": [
      "Letra atual: t\n",
      "Letra atual: r\n",
      "Letra atual: i\n",
      "Letra atual: n\n",
      "Letra atual: g\n",
      "Letra atual:  \n",
      "Letra atual: u\n",
      "Letra atual: a\n",
      "Letra atual: l\n",
      "Letra atual: u\n",
      "Letra atual: e\n",
      "Letra atual: r\n"
     ]
    }
   ],
   "source": [
    "#A declaração continue faz com que o fluxo retorne para o começo do loop\n",
    "for letra in \"String qualquer\":\n",
    "    if letra == 'q' or letra == 'S':\n",
    "        continue\n",
    "    print('Letra atual:',letra)"
   ]
  },
  {
   "cell_type": "code",
   "execution_count": 16,
   "id": "babf2f32-e449-4ca5-abf8-f5d7a77a7463",
   "metadata": {},
   "outputs": [
    {
     "name": "stdout",
     "output_type": "stream",
     "text": [
      "Letra atual: S\n",
      "Letra atual: t\n",
      "Letra atual: r\n",
      "Letra atual: i\n",
      "Letra atual: n\n",
      "Letra atual: g\n",
      "Letra atual:  \n"
     ]
    }
   ],
   "source": [
    "#A declaração break acaba com o loop\n",
    "for letra in 'String qualquer':\n",
    "    if letra == 'q':\n",
    "        break\n",
    "    print('Letra atual:',letra)"
   ]
  },
  {
   "cell_type": "code",
   "execution_count": 19,
   "id": "40e06c99-a990-4498-95b8-ffd939ce095f",
   "metadata": {},
   "outputs": [
    {
     "name": "stdout",
     "output_type": "stream",
     "text": [
      "Letra final: r\n"
     ]
    }
   ],
   "source": [
    "#A declaração pass serve como uma instrução em branco\n",
    "for letra in 'String qualquer':\n",
    "        pass\n",
    "print('Letra final:',letra)"
   ]
  },
  {
   "cell_type": "code",
   "execution_count": null,
   "id": "cd6ef99b-7cd3-4d4e-895f-713e3cab4fd9",
   "metadata": {},
   "outputs": [],
   "source": []
  }
 ],
 "metadata": {
  "kernelspec": {
   "display_name": "Python 3 (ipykernel)",
   "language": "python",
   "name": "python3"
  },
  "language_info": {
   "codemirror_mode": {
    "name": "ipython",
    "version": 3
   },
   "file_extension": ".py",
   "mimetype": "text/x-python",
   "name": "python",
   "nbconvert_exporter": "python",
   "pygments_lexer": "ipython3",
   "version": "3.13.5"
  }
 },
 "nbformat": 4,
 "nbformat_minor": 5
}
