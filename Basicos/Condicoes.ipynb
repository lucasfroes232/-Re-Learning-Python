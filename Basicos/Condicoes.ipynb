{
 "cells": [
  {
   "cell_type": "markdown",
   "id": "8060c298-42cb-4ebd-9de2-063e5143a725",
   "metadata": {},
   "source": [
    "<h1>Condições </h1>\n",
    "\n",
    "Utilizados para definir o fluxo de execução do codigo, possuindo a estrutura\n",
    "\n",
    "**if(condition){\n",
    "Se True execute...\n",
    "}False**\n"
   ]
  },
  {
   "cell_type": "code",
   "execution_count": null,
   "id": "d2753ad4-82a2-4688-abe1-e3a673ce4126",
   "metadata": {},
   "outputs": [],
   "source": [
    "idade = 10\n",
    "if idade >=18:\n",
    "    print('Maior de idade')"
   ]
  },
  {
   "cell_type": "code",
   "execution_count": null,
   "id": "b870b19d-e859-4709-9ae9-8805813c3adc",
   "metadata": {},
   "outputs": [],
   "source": [
    "idade = 10\n",
    "if idade <= 18:\n",
    "    print('Maior de idade')\n",
    "else:\n",
    "    print('Menor de idade')"
   ]
  },
  {
   "cell_type": "code",
   "execution_count": 1,
   "id": "c16f6384-d58c-48a8-bb3c-957026474c86",
   "metadata": {},
   "outputs": [
    {
     "name": "stdout",
     "output_type": "stream",
     "text": [
      "Resultado: Ganhou\n"
     ]
    }
   ],
   "source": [
    "#Podemos escrever uma relação if-else em uma unica linha(Ternario)\n",
    "pontos = 100\n",
    "res = 'Ganhou' if pontos >=90 else 'Perdeu'\n",
    "print('Resultado:', res)"
   ]
  },
  {
   "cell_type": "code",
   "execution_count": 4,
   "id": "39ed6523-b1dd-4a4a-a1fd-ef726de4670f",
   "metadata": {},
   "outputs": [
    {
     "name": "stdout",
     "output_type": "stream",
     "text": [
      "Criança ou adolescente\n"
     ]
    }
   ],
   "source": [
    "idade = 10\n",
    "if idade <=18:\n",
    "    print('Criança ou adolescente')\n",
    "elif idade> 18 and idade <=40:\n",
    "    print('Jovem adulto ou adulto')\n",
    "else:\n",
    "    print('Adulto ou idoso')"
   ]
  },
  {
   "cell_type": "code",
   "execution_count": null,
   "id": "6e35536b-f3d4-41ad-834c-c3caa5ff8527",
   "metadata": {},
   "outputs": [],
   "source": [
    "#Switch-case em Python e chamado de Match-Case\n",
    "numero = 1\n",
    "\n",
    "match number:\n",
    "    case 1:\n",
    "        print('Um')\n",
    "    case 2 | 3:"
   ]
  }
 ],
 "metadata": {
  "kernelspec": {
   "display_name": "Python 3 (ipykernel)",
   "language": "python",
   "name": "python3"
  },
  "language_info": {
   "codemirror_mode": {
    "name": "ipython",
    "version": 3
   },
   "file_extension": ".py",
   "mimetype": "text/x-python",
   "name": "python",
   "nbconvert_exporter": "python",
   "pygments_lexer": "ipython3",
   "version": "3.13.5"
  }
 },
 "nbformat": 4,
 "nbformat_minor": 5
}
