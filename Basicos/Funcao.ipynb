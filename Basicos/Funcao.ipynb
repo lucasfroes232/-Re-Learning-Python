{
 "cells": [
  {
   "cell_type": "markdown",
   "id": "11e08f90-9792-429a-bfad-f80bf8d7cf53",
   "metadata": {},
   "source": [
    "<h1>Funções</h1>\n",
    "\n",
    "Bloco com um conjunto de instruções para uma tarefa especifica\n",
    "\n",
    "*def* **function_name (parameter):** "
   ]
  },
  {
   "cell_type": "code",
   "execution_count": 1,
   "id": "bef5639c-bd2b-40ae-8750-75b9a60aedc5",
   "metadata": {},
   "outputs": [
    {
     "name": "stdout",
     "output_type": "stream",
     "text": [
      "Funcao\n"
     ]
    }
   ],
   "source": [
    "def funcao():\n",
    "    print('Funcao')\n",
    "#chamada da funcao\n",
    "\n",
    "funcao()"
   ]
  },
  {
   "cell_type": "code",
   "execution_count": 15,
   "id": "401cfd6b-ed65-496a-ab5b-bcaa45926407",
   "metadata": {},
   "outputs": [
    {
     "name": "stdout",
     "output_type": "stream",
     "text": [
      "Par\n"
     ]
    }
   ],
   "source": [
    "def parImpar(x):\n",
    "    if (x % 2 == 0):\n",
    "        return 'Par'\n",
    "    else:\n",
    "        return 'Impar'\n",
    "print(parImpar(10))"
   ]
  },
  {
   "cell_type": "code",
   "execution_count": 2,
   "id": "a04074ab-d4f5-4ad8-8c56-8b52e88a1726",
   "metadata": {},
   "outputs": [
    {
     "name": "stdout",
     "output_type": "stream",
     "text": [
      "x: 10\n",
      "y: 10\n",
      "x: 5\n",
      "y: 5\n"
     ]
    }
   ],
   "source": [
    "#Pode-se passar um valor default, para no caso de nao sendo passado um valor\n",
    "# seja usado um valor padrão\n",
    "def funcao(x,y=10):\n",
    "    print ('x:',x)\n",
    "    print ('y:',y)\n",
    "\n",
    "funcao(10)\n",
    "funcao(5,5)"
   ]
  },
  {
   "cell_type": "code",
   "execution_count": 6,
   "id": "9676ee4e-8708-4cdd-90ac-03058a37b174",
   "metadata": {},
   "outputs": [
    {
     "name": "stdout",
     "output_type": "stream",
     "text": [
      "Outro dado \n",
      "Algum dado\n"
     ]
    }
   ],
   "source": [
    "#Pode-se fazer chamada da função passando os parametros por explicitação\n",
    "\n",
    "def funcao( var1, var2):\n",
    "    print(var1,var2)\n",
    "\n",
    "funcao(var2='\\nOutro dado',var1='Algum dado')"
   ]
  },
  {
   "cell_type": "code",
   "execution_count": 8,
   "id": "34267ed8-1d92-4314-99bb-752ed1ce8b8d",
   "metadata": {},
   "outputs": [
    {
     "name": "stdout",
     "output_type": "stream",
     "text": [
      "Primeiro dado:  Algum dado\n",
      "Segundo dado:  Outro dado\n"
     ]
    }
   ],
   "source": [
    "#Em contrapartida aos parametros por explicitação, há a passagem por ordem da chamada\n",
    "\n",
    "def funcao( var1,var2 ):\n",
    "    print('Primeiro dado: ', var1)\n",
    "    print('Segundo dado: ',var2)\n",
    "\n",
    "funcao('Algum dado','Outro dado')"
   ]
  },
  {
   "cell_type": "code",
   "execution_count": 10,
   "id": "3bd9c58f-86a1-42d6-8ad0-d97c9277f56a",
   "metadata": {},
   "outputs": [
    {
     "name": "stdout",
     "output_type": "stream",
     "text": [
      "(*args):\n",
      "Ola\n",
      "Tudo bem\n",
      "\n",
      "(**kwargs)\n",
      "primeiro = Alguma\n",
      "segundo = coisa\n"
     ]
    }
   ],
   "source": [
    "#Pode-se tambem mesclar as duas maneiras citadas acima, alem de passar um numemro\n",
    "#irrestrito de parametros\n",
    "\n",
    "#Vale ressaltar que no caso de passar um nome(key) para algum parametro utilizamos\n",
    "# **kwargs, sem isto, apenas *args\n",
    "\n",
    "def funcao(*args,**kwargs):\n",
    "    print('(*args):')\n",
    "    for arg in args:\n",
    "        print(arg)\n",
    "\n",
    "    print('\\n(**kwargs)')\n",
    "    for key, value in kwargs.items():\n",
    "        print(f\"{key} = {value}\")\n",
    "\n",
    "funcao('Ola','Tudo bem',primeiro = 'Alguma', segundo= 'coisa')\n"
   ]
  },
  {
   "cell_type": "code",
   "execution_count": 11,
   "id": "97eae933-286a-42a1-abce-d13f84ed5f86",
   "metadata": {},
   "outputs": [
    {
     "name": "stdout",
     "output_type": "stream",
     "text": [
      "343\n",
      "343\n"
     ]
    }
   ],
   "source": [
    "#Em python existem funções anonimas, funções que nao possuem um nome e para isso\n",
    "# fazem uso da declaração lambda\n",
    "\n",
    "def cubo(x):return x*x*x\n",
    "cubo_l= lambda x: x*x*x\n",
    "\n",
    "print(cubo(7))\n",
    "print(cubo_l(7))\n"
   ]
  },
  {
   "cell_type": "code",
   "execution_count": 13,
   "id": "b70a12d4-79f3-40ea-aa12-0f7f473a088f",
   "metadata": {},
   "outputs": [
    {
     "name": "stdout",
     "output_type": "stream",
     "text": [
      "[20, 20, 30]\n",
      "10\n"
     ]
    }
   ],
   "source": [
    "#EM python as variaveis sao referencias a objetos,entao a passafem de parametrods \n",
    "#deveria ser por referencia, no entanto isso depende se o obj e mutavel ou nao\n",
    "\n",
    "def funcao_elemento_mutavel(x):\n",
    "    x[0]=20\n",
    "\n",
    "lista = [10,20,30]\n",
    "funcao_elemento_mutavel(lista)\n",
    "print(lista)\n",
    "\n",
    "def funcao_elemento_nao_mutavel(x):\n",
    "    x=20\n",
    "a = 10\n",
    "funcao_elemento_nao_mutavel(a)\n",
    "print(a)"
   ]
  },
  {
   "cell_type": "markdown",
   "id": "10a1e922-d6e3-42fb-b915-5d7a97507300",
   "metadata": {},
   "source": [
    "Recursão é uma estrategia onde uma função chama a si mesma para resolver uma tarefa divindo-a em partes menores, sua estrutura geral é:\n"
   ]
  },
  {
   "cell_type": "code",
   "execution_count": null,
   "id": "8b500fe1-b8d6-442b-ae3a-593f437a36a1",
   "metadata": {},
   "outputs": [],
   "source": [
    " def recursive_function(parameters):\n",
    "         #Condição de parada\n",
    "        if base_case_condition:\n",
    "            return base_result\n",
    "        else:\n",
    "            return recursive_function(modified_parameters)"
   ]
  },
  {
   "cell_type": "code",
   "execution_count": null,
   "id": "c27795bd-2354-45ce-be31-635d5a469517",
   "metadata": {},
   "outputs": [],
   "source": [
    "def fatorial(n):\n",
    "    if n==0:\n",
    "        return 1\n",
    "    else:\n",
    "        return n* fatorial(n-1)\n",
    "print(fatorial(2))"
   ]
  },
  {
   "cell_type": "code",
   "execution_count": null,
   "id": "9c4961e6-62c4-439c-93e2-b278f9351189",
   "metadata": {},
   "outputs": [],
   "source": [
    "def fibonacci(n):\n",
    "    if n==0:\n",
    "        return 0\n",
    "    elif n == 1:\n",
    "        return 1\n",
    "    else:\n",
    "        return fibonacci(n-1)+fibonacci(n-2)\n",
    "\n",
    "print(fibonacci(10))"
   ]
  },
  {
   "cell_type": "code",
   "execution_count": 14,
   "id": "4f827999-14d4-4860-b8e3-225d387ff503",
   "metadata": {},
   "outputs": [
    {
     "name": "stdout",
     "output_type": "stream",
     "text": [
      "24\n",
      "24\n"
     ]
    }
   ],
   "source": [
    "def fatorial_tail(n,acumulado = 1):\n",
    "    if n == 0:\n",
    "        return acumulado\n",
    "    #Ser do tipo tail, significa nao ter nenhuma operação apos o retorno\n",
    "    else:\n",
    "        return fatorial_tail(n-1,acumulado * n)\n",
    "\n",
    "def fatorial_notail(n):\n",
    "    if n==1:\n",
    "        return 1\n",
    "    else:\n",
    "        return n * fatorial_notail(n-1)\n",
    "\n",
    "print(fatorial_tail(4))\n",
    "print(fatorial_notail(4))"
   ]
  },
  {
   "cell_type": "code",
   "execution_count": null,
   "id": "464204fa-ebc4-4224-a6ab-a89c7489ddc0",
   "metadata": {},
   "outputs": [],
   "source": []
  }
 ],
 "metadata": {
  "kernelspec": {
   "display_name": "Python 3 (ipykernel)",
   "language": "python",
   "name": "python3"
  },
  "language_info": {
   "codemirror_mode": {
    "name": "ipython",
    "version": 3
   },
   "file_extension": ".py",
   "mimetype": "text/x-python",
   "name": "python",
   "nbconvert_exporter": "python",
   "pygments_lexer": "ipython3",
   "version": "3.13.5"
  }
 },
 "nbformat": 4,
 "nbformat_minor": 5
}
